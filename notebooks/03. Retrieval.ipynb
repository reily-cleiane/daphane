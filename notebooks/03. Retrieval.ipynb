{
 "cells": [
  {
   "cell_type": "markdown",
   "metadata": {},
   "source": [
    "<a href=\"https://colab.research.google.com/github/wandb/edu/blob/main/llm-apps-course/notebooks/03.%20Retrieval.ipynb\" target=\"_parent\"><img src=\"https://colab.research.google.com/assets/colab-badge.svg\" alt=\"Open In Colab\"/></a>\n",
    "<!--- @wandbcode{llmapps-retrieval} -->"
   ]
  },
  {
   "cell_type": "markdown",
   "metadata": {},
   "source": [
    "# Understanding Retrieval Question Answering"
   ]
  },
  {
   "cell_type": "markdown",
   "metadata": {},
   "source": [
    "### Setup"
   ]
  },
  {
   "cell_type": "code",
   "execution_count": 1,
   "metadata": {},
   "outputs": [],
   "source": [
    "!pip install -Uqqq rich openai==0.27.2 tiktoken wandb langchain unstructured tabulate pdf2image chromadb"
   ]
  },
  {
   "cell_type": "code",
   "execution_count": 10,
   "metadata": {},
   "outputs": [
    {
     "name": "stdout",
     "output_type": "stream",
     "text": [
      "Requirement already satisfied: langchain-community in /home/cleiane/cleiane-wsl/wandb-cursos/llm-apps-course/daphane/lib/python3.10/site-packages (0.3.13)\n",
      "Requirement already satisfied: requests<3,>=2 in /home/cleiane/cleiane-wsl/wandb-cursos/llm-apps-course/daphane/lib/python3.10/site-packages (from langchain-community) (2.32.3)\n",
      "Requirement already satisfied: aiohttp<4.0.0,>=3.8.3 in /home/cleiane/cleiane-wsl/wandb-cursos/llm-apps-course/daphane/lib/python3.10/site-packages (from langchain-community) (3.11.11)\n",
      "Requirement already satisfied: pydantic-settings<3.0.0,>=2.4.0 in /home/cleiane/cleiane-wsl/wandb-cursos/llm-apps-course/daphane/lib/python3.10/site-packages (from langchain-community) (2.7.0)\n",
      "Requirement already satisfied: numpy<2,>=1.22.4 in /home/cleiane/cleiane-wsl/wandb-cursos/llm-apps-course/daphane/lib/python3.10/site-packages (from langchain-community) (1.26.4)\n",
      "Requirement already satisfied: PyYAML>=5.3 in /home/cleiane/cleiane-wsl/wandb-cursos/llm-apps-course/daphane/lib/python3.10/site-packages (from langchain-community) (6.0.2)\n",
      "Requirement already satisfied: SQLAlchemy<3,>=1.4 in /home/cleiane/cleiane-wsl/wandb-cursos/llm-apps-course/daphane/lib/python3.10/site-packages (from langchain-community) (2.0.36)\n",
      "Requirement already satisfied: langsmith<0.3,>=0.1.125 in /home/cleiane/cleiane-wsl/wandb-cursos/llm-apps-course/daphane/lib/python3.10/site-packages (from langchain-community) (0.2.6)\n",
      "Requirement already satisfied: tenacity!=8.4.0,<10,>=8.1.0 in /home/cleiane/cleiane-wsl/wandb-cursos/llm-apps-course/daphane/lib/python3.10/site-packages (from langchain-community) (9.0.0)\n",
      "Requirement already satisfied: langchain<0.4.0,>=0.3.13 in /home/cleiane/cleiane-wsl/wandb-cursos/llm-apps-course/daphane/lib/python3.10/site-packages (from langchain-community) (0.3.13)\n",
      "Requirement already satisfied: httpx-sse<0.5.0,>=0.4.0 in /home/cleiane/cleiane-wsl/wandb-cursos/llm-apps-course/daphane/lib/python3.10/site-packages (from langchain-community) (0.4.0)\n",
      "Requirement already satisfied: langchain-core<0.4.0,>=0.3.27 in /home/cleiane/cleiane-wsl/wandb-cursos/llm-apps-course/daphane/lib/python3.10/site-packages (from langchain-community) (0.3.28)\n",
      "Requirement already satisfied: dataclasses-json<0.7,>=0.5.7 in /home/cleiane/cleiane-wsl/wandb-cursos/llm-apps-course/daphane/lib/python3.10/site-packages (from langchain-community) (0.6.7)\n",
      "Requirement already satisfied: yarl<2.0,>=1.17.0 in /home/cleiane/cleiane-wsl/wandb-cursos/llm-apps-course/daphane/lib/python3.10/site-packages (from aiohttp<4.0.0,>=3.8.3->langchain-community) (1.18.3)\n",
      "Requirement already satisfied: attrs>=17.3.0 in /home/cleiane/cleiane-wsl/wandb-cursos/llm-apps-course/daphane/lib/python3.10/site-packages (from aiohttp<4.0.0,>=3.8.3->langchain-community) (24.3.0)\n",
      "Requirement already satisfied: async-timeout<6.0,>=4.0 in /home/cleiane/cleiane-wsl/wandb-cursos/llm-apps-course/daphane/lib/python3.10/site-packages (from aiohttp<4.0.0,>=3.8.3->langchain-community) (4.0.3)\n",
      "Requirement already satisfied: frozenlist>=1.1.1 in /home/cleiane/cleiane-wsl/wandb-cursos/llm-apps-course/daphane/lib/python3.10/site-packages (from aiohttp<4.0.0,>=3.8.3->langchain-community) (1.5.0)\n",
      "Requirement already satisfied: multidict<7.0,>=4.5 in /home/cleiane/cleiane-wsl/wandb-cursos/llm-apps-course/daphane/lib/python3.10/site-packages (from aiohttp<4.0.0,>=3.8.3->langchain-community) (6.1.0)\n",
      "Requirement already satisfied: propcache>=0.2.0 in /home/cleiane/cleiane-wsl/wandb-cursos/llm-apps-course/daphane/lib/python3.10/site-packages (from aiohttp<4.0.0,>=3.8.3->langchain-community) (0.2.1)\n",
      "Requirement already satisfied: aiohappyeyeballs>=2.3.0 in /home/cleiane/cleiane-wsl/wandb-cursos/llm-apps-course/daphane/lib/python3.10/site-packages (from aiohttp<4.0.0,>=3.8.3->langchain-community) (2.4.4)\n",
      "Requirement already satisfied: aiosignal>=1.1.2 in /home/cleiane/cleiane-wsl/wandb-cursos/llm-apps-course/daphane/lib/python3.10/site-packages (from aiohttp<4.0.0,>=3.8.3->langchain-community) (1.3.2)\n",
      "Requirement already satisfied: typing-inspect<1,>=0.4.0 in /home/cleiane/cleiane-wsl/wandb-cursos/llm-apps-course/daphane/lib/python3.10/site-packages (from dataclasses-json<0.7,>=0.5.7->langchain-community) (0.9.0)\n",
      "Requirement already satisfied: marshmallow<4.0.0,>=3.18.0 in /home/cleiane/cleiane-wsl/wandb-cursos/llm-apps-course/daphane/lib/python3.10/site-packages (from dataclasses-json<0.7,>=0.5.7->langchain-community) (3.23.2)\n",
      "Requirement already satisfied: pydantic<3.0.0,>=2.7.4 in /home/cleiane/cleiane-wsl/wandb-cursos/llm-apps-course/daphane/lib/python3.10/site-packages (from langchain<0.4.0,>=0.3.13->langchain-community) (2.10.4)\n",
      "Requirement already satisfied: langchain-text-splitters<0.4.0,>=0.3.3 in /home/cleiane/cleiane-wsl/wandb-cursos/llm-apps-course/daphane/lib/python3.10/site-packages (from langchain<0.4.0,>=0.3.13->langchain-community) (0.3.4)\n",
      "Requirement already satisfied: typing-extensions>=4.7 in /home/cleiane/cleiane-wsl/wandb-cursos/llm-apps-course/daphane/lib/python3.10/site-packages (from langchain-core<0.4.0,>=0.3.27->langchain-community) (4.12.2)\n",
      "Requirement already satisfied: packaging<25,>=23.2 in /home/cleiane/cleiane-wsl/wandb-cursos/llm-apps-course/daphane/lib/python3.10/site-packages (from langchain-core<0.4.0,>=0.3.27->langchain-community) (24.2)\n",
      "Requirement already satisfied: jsonpatch<2.0,>=1.33 in /home/cleiane/cleiane-wsl/wandb-cursos/llm-apps-course/daphane/lib/python3.10/site-packages (from langchain-core<0.4.0,>=0.3.27->langchain-community) (1.33)\n",
      "Requirement already satisfied: httpx<1,>=0.23.0 in /home/cleiane/cleiane-wsl/wandb-cursos/llm-apps-course/daphane/lib/python3.10/site-packages (from langsmith<0.3,>=0.1.125->langchain-community) (0.28.1)\n",
      "Requirement already satisfied: orjson<4.0.0,>=3.9.14 in /home/cleiane/cleiane-wsl/wandb-cursos/llm-apps-course/daphane/lib/python3.10/site-packages (from langsmith<0.3,>=0.1.125->langchain-community) (3.10.12)\n",
      "Requirement already satisfied: requests-toolbelt<2.0.0,>=1.0.0 in /home/cleiane/cleiane-wsl/wandb-cursos/llm-apps-course/daphane/lib/python3.10/site-packages (from langsmith<0.3,>=0.1.125->langchain-community) (1.0.0)\n",
      "Requirement already satisfied: python-dotenv>=0.21.0 in /home/cleiane/cleiane-wsl/wandb-cursos/llm-apps-course/daphane/lib/python3.10/site-packages (from pydantic-settings<3.0.0,>=2.4.0->langchain-community) (1.0.1)\n",
      "Requirement already satisfied: certifi>=2017.4.17 in /home/cleiane/cleiane-wsl/wandb-cursos/llm-apps-course/daphane/lib/python3.10/site-packages (from requests<3,>=2->langchain-community) (2024.12.14)\n",
      "Requirement already satisfied: charset-normalizer<4,>=2 in /home/cleiane/cleiane-wsl/wandb-cursos/llm-apps-course/daphane/lib/python3.10/site-packages (from requests<3,>=2->langchain-community) (3.4.1)\n",
      "Requirement already satisfied: urllib3<3,>=1.21.1 in /home/cleiane/cleiane-wsl/wandb-cursos/llm-apps-course/daphane/lib/python3.10/site-packages (from requests<3,>=2->langchain-community) (2.3.0)\n",
      "Requirement already satisfied: idna<4,>=2.5 in /home/cleiane/cleiane-wsl/wandb-cursos/llm-apps-course/daphane/lib/python3.10/site-packages (from requests<3,>=2->langchain-community) (3.10)\n",
      "Requirement already satisfied: greenlet!=0.4.17 in /home/cleiane/cleiane-wsl/wandb-cursos/llm-apps-course/daphane/lib/python3.10/site-packages (from SQLAlchemy<3,>=1.4->langchain-community) (3.1.1)\n",
      "Requirement already satisfied: httpcore==1.* in /home/cleiane/cleiane-wsl/wandb-cursos/llm-apps-course/daphane/lib/python3.10/site-packages (from httpx<1,>=0.23.0->langsmith<0.3,>=0.1.125->langchain-community) (1.0.7)\n",
      "Requirement already satisfied: anyio in /home/cleiane/cleiane-wsl/wandb-cursos/llm-apps-course/daphane/lib/python3.10/site-packages (from httpx<1,>=0.23.0->langsmith<0.3,>=0.1.125->langchain-community) (4.7.0)\n",
      "Requirement already satisfied: h11<0.15,>=0.13 in /home/cleiane/cleiane-wsl/wandb-cursos/llm-apps-course/daphane/lib/python3.10/site-packages (from httpcore==1.*->httpx<1,>=0.23.0->langsmith<0.3,>=0.1.125->langchain-community) (0.14.0)\n",
      "Requirement already satisfied: jsonpointer>=1.9 in /home/cleiane/cleiane-wsl/wandb-cursos/llm-apps-course/daphane/lib/python3.10/site-packages (from jsonpatch<2.0,>=1.33->langchain-core<0.4.0,>=0.3.27->langchain-community) (3.0.0)\n",
      "Requirement already satisfied: annotated-types>=0.6.0 in /home/cleiane/cleiane-wsl/wandb-cursos/llm-apps-course/daphane/lib/python3.10/site-packages (from pydantic<3.0.0,>=2.7.4->langchain<0.4.0,>=0.3.13->langchain-community) (0.7.0)\n",
      "Requirement already satisfied: pydantic-core==2.27.2 in /home/cleiane/cleiane-wsl/wandb-cursos/llm-apps-course/daphane/lib/python3.10/site-packages (from pydantic<3.0.0,>=2.7.4->langchain<0.4.0,>=0.3.13->langchain-community) (2.27.2)\n",
      "Requirement already satisfied: mypy-extensions>=0.3.0 in /home/cleiane/cleiane-wsl/wandb-cursos/llm-apps-course/daphane/lib/python3.10/site-packages (from typing-inspect<1,>=0.4.0->dataclasses-json<0.7,>=0.5.7->langchain-community) (1.0.0)\n",
      "Requirement already satisfied: sniffio>=1.1 in /home/cleiane/cleiane-wsl/wandb-cursos/llm-apps-course/daphane/lib/python3.10/site-packages (from anyio->httpx<1,>=0.23.0->langsmith<0.3,>=0.1.125->langchain-community) (1.3.1)\n",
      "Requirement already satisfied: exceptiongroup>=1.0.2 in /home/cleiane/cleiane-wsl/wandb-cursos/llm-apps-course/daphane/lib/python3.10/site-packages (from anyio->httpx<1,>=0.23.0->langsmith<0.3,>=0.1.125->langchain-community) (1.2.2)\n",
      "Note: you may need to restart the kernel to use updated packages.\n",
      "Requirement already satisfied: unstructured[md] in /home/cleiane/cleiane-wsl/wandb-cursos/llm-apps-course/daphane/lib/python3.10/site-packages (0.16.11)\n",
      "Requirement already satisfied: numpy<2 in /home/cleiane/cleiane-wsl/wandb-cursos/llm-apps-course/daphane/lib/python3.10/site-packages (from unstructured[md]) (1.26.4)\n",
      "Requirement already satisfied: rapidfuzz in /home/cleiane/cleiane-wsl/wandb-cursos/llm-apps-course/daphane/lib/python3.10/site-packages (from unstructured[md]) (3.11.0)\n",
      "Requirement already satisfied: backoff in /home/cleiane/cleiane-wsl/wandb-cursos/llm-apps-course/daphane/lib/python3.10/site-packages (from unstructured[md]) (2.2.1)\n",
      "Requirement already satisfied: unstructured-client in /home/cleiane/cleiane-wsl/wandb-cursos/llm-apps-course/daphane/lib/python3.10/site-packages (from unstructured[md]) (0.25.9)\n",
      "Requirement already satisfied: psutil in /home/cleiane/cleiane-wsl/wandb-cursos/llm-apps-course/daphane/lib/python3.10/site-packages (from unstructured[md]) (6.1.1)\n",
      "Requirement already satisfied: requests in /home/cleiane/cleiane-wsl/wandb-cursos/llm-apps-course/daphane/lib/python3.10/site-packages (from unstructured[md]) (2.32.3)\n",
      "Requirement already satisfied: tqdm in /home/cleiane/cleiane-wsl/wandb-cursos/llm-apps-course/daphane/lib/python3.10/site-packages (from unstructured[md]) (4.67.1)\n",
      "Requirement already satisfied: beautifulsoup4 in /home/cleiane/cleiane-wsl/wandb-cursos/llm-apps-course/daphane/lib/python3.10/site-packages (from unstructured[md]) (4.12.3)\n",
      "Requirement already satisfied: emoji in /home/cleiane/cleiane-wsl/wandb-cursos/llm-apps-course/daphane/lib/python3.10/site-packages (from unstructured[md]) (2.14.0)\n",
      "Requirement already satisfied: langdetect in /home/cleiane/cleiane-wsl/wandb-cursos/llm-apps-course/daphane/lib/python3.10/site-packages (from unstructured[md]) (1.0.9)\n",
      "Requirement already satisfied: chardet in /home/cleiane/cleiane-wsl/wandb-cursos/llm-apps-course/daphane/lib/python3.10/site-packages (from unstructured[md]) (5.2.0)\n",
      "Requirement already satisfied: filetype in /home/cleiane/cleiane-wsl/wandb-cursos/llm-apps-course/daphane/lib/python3.10/site-packages (from unstructured[md]) (1.2.0)\n",
      "Requirement already satisfied: python-magic in /home/cleiane/cleiane-wsl/wandb-cursos/llm-apps-course/daphane/lib/python3.10/site-packages (from unstructured[md]) (0.4.27)\n",
      "Requirement already satisfied: lxml in /home/cleiane/cleiane-wsl/wandb-cursos/llm-apps-course/daphane/lib/python3.10/site-packages (from unstructured[md]) (5.3.0)\n",
      "Requirement already satisfied: python-iso639 in /home/cleiane/cleiane-wsl/wandb-cursos/llm-apps-course/daphane/lib/python3.10/site-packages (from unstructured[md]) (2024.10.22)\n",
      "Requirement already satisfied: python-oxmsg in /home/cleiane/cleiane-wsl/wandb-cursos/llm-apps-course/daphane/lib/python3.10/site-packages (from unstructured[md]) (0.0.1)\n",
      "Requirement already satisfied: typing-extensions in /home/cleiane/cleiane-wsl/wandb-cursos/llm-apps-course/daphane/lib/python3.10/site-packages (from unstructured[md]) (4.12.2)\n",
      "Requirement already satisfied: wrapt in /home/cleiane/cleiane-wsl/wandb-cursos/llm-apps-course/daphane/lib/python3.10/site-packages (from unstructured[md]) (1.17.0)\n",
      "Requirement already satisfied: dataclasses-json in /home/cleiane/cleiane-wsl/wandb-cursos/llm-apps-course/daphane/lib/python3.10/site-packages (from unstructured[md]) (0.6.7)\n",
      "Requirement already satisfied: html5lib in /home/cleiane/cleiane-wsl/wandb-cursos/llm-apps-course/daphane/lib/python3.10/site-packages (from unstructured[md]) (1.1)\n",
      "Requirement already satisfied: nltk in /home/cleiane/cleiane-wsl/wandb-cursos/llm-apps-course/daphane/lib/python3.10/site-packages (from unstructured[md]) (3.9.1)\n",
      "Collecting markdown\n",
      "  Using cached Markdown-3.7-py3-none-any.whl (106 kB)\n",
      "Requirement already satisfied: soupsieve>1.2 in /home/cleiane/cleiane-wsl/wandb-cursos/llm-apps-course/daphane/lib/python3.10/site-packages (from beautifulsoup4->unstructured[md]) (2.6)\n",
      "Requirement already satisfied: typing-inspect<1,>=0.4.0 in /home/cleiane/cleiane-wsl/wandb-cursos/llm-apps-course/daphane/lib/python3.10/site-packages (from dataclasses-json->unstructured[md]) (0.9.0)\n",
      "Requirement already satisfied: marshmallow<4.0.0,>=3.18.0 in /home/cleiane/cleiane-wsl/wandb-cursos/llm-apps-course/daphane/lib/python3.10/site-packages (from dataclasses-json->unstructured[md]) (3.23.2)\n",
      "Requirement already satisfied: webencodings in /home/cleiane/cleiane-wsl/wandb-cursos/llm-apps-course/daphane/lib/python3.10/site-packages (from html5lib->unstructured[md]) (0.5.1)\n",
      "Requirement already satisfied: six>=1.9 in /home/cleiane/cleiane-wsl/wandb-cursos/llm-apps-course/daphane/lib/python3.10/site-packages (from html5lib->unstructured[md]) (1.17.0)\n",
      "Requirement already satisfied: regex>=2021.8.3 in /home/cleiane/cleiane-wsl/wandb-cursos/llm-apps-course/daphane/lib/python3.10/site-packages (from nltk->unstructured[md]) (2024.11.6)\n",
      "Requirement already satisfied: joblib in /home/cleiane/cleiane-wsl/wandb-cursos/llm-apps-course/daphane/lib/python3.10/site-packages (from nltk->unstructured[md]) (1.4.2)\n",
      "Requirement already satisfied: click in /home/cleiane/cleiane-wsl/wandb-cursos/llm-apps-course/daphane/lib/python3.10/site-packages (from nltk->unstructured[md]) (8.1.8)\n",
      "Requirement already satisfied: olefile in /home/cleiane/cleiane-wsl/wandb-cursos/llm-apps-course/daphane/lib/python3.10/site-packages (from python-oxmsg->unstructured[md]) (0.47)\n",
      "Requirement already satisfied: urllib3<3,>=1.21.1 in /home/cleiane/cleiane-wsl/wandb-cursos/llm-apps-course/daphane/lib/python3.10/site-packages (from requests->unstructured[md]) (2.3.0)\n",
      "Requirement already satisfied: charset-normalizer<4,>=2 in /home/cleiane/cleiane-wsl/wandb-cursos/llm-apps-course/daphane/lib/python3.10/site-packages (from requests->unstructured[md]) (3.4.1)\n",
      "Requirement already satisfied: certifi>=2017.4.17 in /home/cleiane/cleiane-wsl/wandb-cursos/llm-apps-course/daphane/lib/python3.10/site-packages (from requests->unstructured[md]) (2024.12.14)\n",
      "Requirement already satisfied: idna<4,>=2.5 in /home/cleiane/cleiane-wsl/wandb-cursos/llm-apps-course/daphane/lib/python3.10/site-packages (from requests->unstructured[md]) (3.10)\n",
      "Requirement already satisfied: python-dateutil>=2.8.2 in /home/cleiane/cleiane-wsl/wandb-cursos/llm-apps-course/daphane/lib/python3.10/site-packages (from unstructured-client->unstructured[md]) (2.9.0.post0)\n",
      "Requirement already satisfied: jsonpath-python>=1.0.6 in /home/cleiane/cleiane-wsl/wandb-cursos/llm-apps-course/daphane/lib/python3.10/site-packages (from unstructured-client->unstructured[md]) (1.0.6)\n",
      "Requirement already satisfied: packaging>=23.1 in /home/cleiane/cleiane-wsl/wandb-cursos/llm-apps-course/daphane/lib/python3.10/site-packages (from unstructured-client->unstructured[md]) (24.2)\n",
      "Requirement already satisfied: requests-toolbelt>=1.0.0 in /home/cleiane/cleiane-wsl/wandb-cursos/llm-apps-course/daphane/lib/python3.10/site-packages (from unstructured-client->unstructured[md]) (1.0.0)\n",
      "Requirement already satisfied: deepdiff>=6.0 in /home/cleiane/cleiane-wsl/wandb-cursos/llm-apps-course/daphane/lib/python3.10/site-packages (from unstructured-client->unstructured[md]) (8.1.1)\n",
      "Requirement already satisfied: cryptography>=3.1 in /home/cleiane/cleiane-wsl/wandb-cursos/llm-apps-course/daphane/lib/python3.10/site-packages (from unstructured-client->unstructured[md]) (44.0.0)\n",
      "Requirement already satisfied: pypdf>=4.0 in /home/cleiane/cleiane-wsl/wandb-cursos/llm-apps-course/daphane/lib/python3.10/site-packages (from unstructured-client->unstructured[md]) (5.1.0)\n",
      "Requirement already satisfied: nest-asyncio>=1.6.0 in /home/cleiane/cleiane-wsl/wandb-cursos/llm-apps-course/daphane/lib/python3.10/site-packages (from unstructured-client->unstructured[md]) (1.6.0)\n",
      "Requirement already satisfied: mypy-extensions>=1.0.0 in /home/cleiane/cleiane-wsl/wandb-cursos/llm-apps-course/daphane/lib/python3.10/site-packages (from unstructured-client->unstructured[md]) (1.0.0)\n",
      "Requirement already satisfied: httpx>=0.27.0 in /home/cleiane/cleiane-wsl/wandb-cursos/llm-apps-course/daphane/lib/python3.10/site-packages (from unstructured-client->unstructured[md]) (0.28.1)\n",
      "Requirement already satisfied: cffi>=1.12 in /home/cleiane/cleiane-wsl/wandb-cursos/llm-apps-course/daphane/lib/python3.10/site-packages (from cryptography>=3.1->unstructured-client->unstructured[md]) (1.17.1)\n",
      "Requirement already satisfied: orderly-set<6,>=5.2.3 in /home/cleiane/cleiane-wsl/wandb-cursos/llm-apps-course/daphane/lib/python3.10/site-packages (from deepdiff>=6.0->unstructured-client->unstructured[md]) (5.2.3)\n",
      "Requirement already satisfied: httpcore==1.* in /home/cleiane/cleiane-wsl/wandb-cursos/llm-apps-course/daphane/lib/python3.10/site-packages (from httpx>=0.27.0->unstructured-client->unstructured[md]) (1.0.7)\n",
      "Requirement already satisfied: anyio in /home/cleiane/cleiane-wsl/wandb-cursos/llm-apps-course/daphane/lib/python3.10/site-packages (from httpx>=0.27.0->unstructured-client->unstructured[md]) (4.7.0)\n",
      "Requirement already satisfied: h11<0.15,>=0.13 in /home/cleiane/cleiane-wsl/wandb-cursos/llm-apps-course/daphane/lib/python3.10/site-packages (from httpcore==1.*->httpx>=0.27.0->unstructured-client->unstructured[md]) (0.14.0)\n",
      "Requirement already satisfied: pycparser in /home/cleiane/cleiane-wsl/wandb-cursos/llm-apps-course/daphane/lib/python3.10/site-packages (from cffi>=1.12->cryptography>=3.1->unstructured-client->unstructured[md]) (2.22)\n",
      "Requirement already satisfied: exceptiongroup>=1.0.2 in /home/cleiane/cleiane-wsl/wandb-cursos/llm-apps-course/daphane/lib/python3.10/site-packages (from anyio->httpx>=0.27.0->unstructured-client->unstructured[md]) (1.2.2)\n",
      "Requirement already satisfied: sniffio>=1.1 in /home/cleiane/cleiane-wsl/wandb-cursos/llm-apps-course/daphane/lib/python3.10/site-packages (from anyio->httpx>=0.27.0->unstructured-client->unstructured[md]) (1.3.1)\n",
      "Installing collected packages: markdown\n",
      "Successfully installed markdown-3.7\n",
      "Note: you may need to restart the kernel to use updated packages.\n"
     ]
    }
   ],
   "source": [
    "%pip install -U langchain-community\n",
    "%pip install \"unstructured[md]\""
   ]
  },
  {
   "cell_type": "code",
   "execution_count": 2,
   "metadata": {},
   "outputs": [],
   "source": [
    "import os, random\n",
    "from pathlib import Path\n",
    "import tiktoken\n",
    "from getpass import getpass\n",
    "from rich.markdown import Markdown"
   ]
  },
  {
   "cell_type": "markdown",
   "metadata": {},
   "source": [
    "You will need an OpenAI API key to run this notebook. You can get one [here](https://platform.openai.com/account/api-keys)."
   ]
  },
  {
   "cell_type": "code",
   "execution_count": 3,
   "metadata": {},
   "outputs": [
    {
     "name": "stdout",
     "output_type": "stream",
     "text": [
      "Please enter password in the VS Code prompt at the top of your VS Code window!\n",
      "OpenAI API key configured\n"
     ]
    }
   ],
   "source": [
    "if os.getenv(\"OPENAI_API_KEY\") is None:\n",
    "  if any(['VSCODE' in x for x in os.environ.keys()]):\n",
    "    print('Please enter password in the VS Code prompt at the top of your VS Code window!')\n",
    "  os.environ[\"OPENAI_API_KEY\"] = getpass(\"Paste your OpenAI key from: https://platform.openai.com/account/api-keys\\n\")\n",
    "\n",
    "assert os.getenv(\"OPENAI_API_KEY\", \"\").startswith(\"sk-\"), \"This doesn't look like a valid OpenAI API key\"\n",
    "print(\"OpenAI API key configured\")"
   ]
  },
  {
   "cell_type": "markdown",
   "metadata": {},
   "source": [
    "## Langchain\n",
    "\n",
    "[LangChain](https://docs.langchain.com/docs/) is a framework for developing applications powered by language models. We will use some of its features in the code below. Let's start by configuring W&B tracing. "
   ]
  },
  {
   "cell_type": "code",
   "execution_count": 8,
   "metadata": {},
   "outputs": [],
   "source": [
    "# we need a single line of code to start tracing langchain with W&B\n",
    "os.environ[\"LANGCHAIN_WANDB_TRACING\"] = \"true\"\n",
    "\n",
    "# wandb documentation to configure wandb using env variables\n",
    "# https://docs.wandb.ai/guides/track/advanced/environment-variables\n",
    "# here we are configuring the wandb project name\n",
    "os.environ[\"WANDB_PROJECT\"] = \"daphane\""
   ]
  },
  {
   "cell_type": "markdown",
   "metadata": {},
   "source": [
    "## Parsing documents\n",
    "\n",
    "We will use a small sample of markdown documents in this notebook. Let's find them and make sure we can stuff them into the prompt. That means they may need to be chunked and not exceed some number of tokens. "
   ]
  },
  {
   "cell_type": "code",
   "execution_count": 5,
   "metadata": {},
   "outputs": [],
   "source": [
    "MODEL_NAME = \"text-davinci-003\"\n",
    "# MODEL_NAME = \"gpt-4\""
   ]
  },
  {
   "cell_type": "markdown",
   "metadata": {},
   "source": [
    "Let's grab some sample data, here we will download a folder containing some markdown files from our docs."
   ]
  },
  {
   "cell_type": "code",
   "execution_count": null,
   "metadata": {},
   "outputs": [],
   "source": [
    "!git clone https://github.com/wandb/edu.git"
   ]
  },
  {
   "cell_type": "code",
   "execution_count": 11,
   "metadata": {},
   "outputs": [
    {
     "data": {
      "text/plain": [
       "1"
      ]
     },
     "execution_count": 11,
     "metadata": {},
     "output_type": "execute_result"
    }
   ],
   "source": [
    "from langchain.document_loaders import DirectoryLoader\n",
    "caminho_documentos = \"../documentos_base/\"\n",
    "\n",
    "def find_md_files(directory):\n",
    "    \"Find all markdown files in a directory and return a LangChain Document\"\n",
    "    dl = DirectoryLoader(directory, \"**/*.md\")\n",
    "    return dl.load()\n",
    "\n",
    "documents = find_md_files(caminho_documentos)\n",
    "len(documents)"
   ]
  },
  {
   "cell_type": "code",
   "execution_count": 12,
   "metadata": {},
   "outputs": [],
   "source": [
    "# We will need to count tokens in the documents, and for that we need the tokenizer\n",
    "tokenizer = tiktoken.encoding_for_model(MODEL_NAME)"
   ]
  },
  {
   "cell_type": "code",
   "execution_count": 13,
   "metadata": {},
   "outputs": [
    {
     "data": {
      "text/plain": [
       "[14811]"
      ]
     },
     "execution_count": 13,
     "metadata": {},
     "output_type": "execute_result"
    }
   ],
   "source": [
    "# function to count the number of tokens in each document\n",
    "def count_tokens(documents):\n",
    "    token_counts = [len(tokenizer.encode(document.page_content)) for document in documents]\n",
    "    return token_counts\n",
    "\n",
    "count_tokens(documents)"
   ]
  },
  {
   "cell_type": "markdown",
   "metadata": {},
   "source": [
    "We will use `LangChain` built in `MarkdownTextSplitter` to split the documents into sections. Actually splitting `Markdown` without breaking syntax is not that easy. This splitter strips out syntax.\n",
    "- We can pass the `chunk_size` param and avoid lenghty chunks.\n",
    "- The `chunk_overlap` param is useful so you don't cut sentences randomly. This is less necessary with `Markdown`\n",
    "\n",
    "The `MarkdownTextSplitter` also takes care of removing double line breaks and save us some tokens that way."
   ]
  },
  {
   "cell_type": "code",
   "execution_count": 14,
   "metadata": {},
   "outputs": [
    {
     "data": {
      "text/plain": [
       "(56, 403)"
      ]
     },
     "execution_count": 14,
     "metadata": {},
     "output_type": "execute_result"
    }
   ],
   "source": [
    "from langchain.text_splitter import MarkdownTextSplitter\n",
    "\n",
    "md_text_splitter = MarkdownTextSplitter(chunk_size=1000)\n",
    "document_sections = md_text_splitter.split_documents(documents)\n",
    "len(document_sections), max(count_tokens(document_sections))"
   ]
  },
  {
   "cell_type": "markdown",
   "metadata": {},
   "source": [
    "let's look at the first section"
   ]
  },
  {
   "cell_type": "code",
   "execution_count": 15,
   "metadata": {},
   "outputs": [
    {
     "data": {
      "text/html": [
       "<pre style=\"white-space:pre;overflow-x:auto;line-height:normal;font-family:Menlo,'DejaVu Sans Mono',consolas,'Courier New',monospace\">LEI Nº 11.340, DE 7 DE AGOSTO DE 2006                                                                              \n",
       "\n",
       "Cria mecanismos para coibir a violência doméstica e familiar contra a mulher, nos termos do § 8º do art. 226 da    \n",
       "Constituição Federal, da Convenção sobre a Eliminação de Todas as Formas de Discriminação contra as Mulheres e da  \n",
       "Convenção Interamericana para Prevenir, Punir e Erradicar a Violência contra a Mulher; dispõe sobre a criação dos  \n",
       "Juizados de Violência Doméstica e Familiar contra a Mulher; altera o Código de Processo Penal, o Código Penal e a  \n",
       "Lei de Execução Penal; e dá outras providências.                                                                   \n",
       "\n",
       "O PRESIDENTE DA REPÚBLICA Faço saber que o Congresso Nacional decreta e eu sanciono a seguinte Lei:                \n",
       "\n",
       "TÍTULO I                                                                                                           \n",
       "\n",
       "DISPOSIÇÕES PRELIMINARES                                                                                           \n",
       "</pre>\n"
      ],
      "text/plain": [
       "LEI Nº 11.340, DE 7 DE AGOSTO DE 2006                                                                              \n",
       "\n",
       "Cria mecanismos para coibir a violência doméstica e familiar contra a mulher, nos termos do § 8º do art. 226 da    \n",
       "Constituição Federal, da Convenção sobre a Eliminação de Todas as Formas de Discriminação contra as Mulheres e da  \n",
       "Convenção Interamericana para Prevenir, Punir e Erradicar a Violência contra a Mulher; dispõe sobre a criação dos  \n",
       "Juizados de Violência Doméstica e Familiar contra a Mulher; altera o Código de Processo Penal, o Código Penal e a  \n",
       "Lei de Execução Penal; e dá outras providências.                                                                   \n",
       "\n",
       "O PRESIDENTE DA REPÚBLICA Faço saber que o Congresso Nacional decreta e eu sanciono a seguinte Lei:                \n",
       "\n",
       "TÍTULO I                                                                                                           \n",
       "\n",
       "DISPOSIÇÕES PRELIMINARES                                                                                           \n"
      ]
     },
     "execution_count": 15,
     "metadata": {},
     "output_type": "execute_result"
    }
   ],
   "source": [
    "Markdown(document_sections[0].page_content)"
   ]
  },
  {
   "cell_type": "markdown",
   "metadata": {},
   "source": [
    "## Embeddings\n",
    "\n",
    "Let's now use embeddings with a vector database retriever to find relevant documents for a query. "
   ]
  },
  {
   "cell_type": "code",
   "execution_count": 16,
   "metadata": {},
   "outputs": [
    {
     "name": "stderr",
     "output_type": "stream",
     "text": [
      "/tmp/ipykernel_22952/2891843054.py:5: LangChainDeprecationWarning: The class `OpenAIEmbeddings` was deprecated in LangChain 0.0.9 and will be removed in 1.0. An updated version of the class exists in the :class:`~langchain-openai package and should be used instead. To use it run `pip install -U :class:`~langchain-openai` and import as `from :class:`~langchain_openai import OpenAIEmbeddings``.\n",
      "  embeddings = OpenAIEmbeddings()\n"
     ]
    }
   ],
   "source": [
    "from langchain.embeddings import OpenAIEmbeddings\n",
    "from langchain.vectorstores import Chroma\n",
    "\n",
    "# We will use the OpenAIEmbeddings to embed the text, and Chroma to store the vectors\n",
    "embeddings = OpenAIEmbeddings()\n",
    "db = Chroma.from_documents(document_sections, embeddings)"
   ]
  },
  {
   "cell_type": "markdown",
   "metadata": {},
   "source": [
    "We can create a retriever from the db now, we can pass the `k` param to get the most relevant sections from the similarity search"
   ]
  },
  {
   "cell_type": "code",
   "execution_count": 17,
   "metadata": {},
   "outputs": [],
   "source": [
    "retriever = db.as_retriever(search_kwargs=dict(k=3))"
   ]
  },
  {
   "cell_type": "code",
   "execution_count": 18,
   "metadata": {},
   "outputs": [
    {
     "name": "stderr",
     "output_type": "stream",
     "text": [
      "/tmp/ipykernel_22952/2151988766.py:2: LangChainDeprecationWarning: The method `BaseRetriever.get_relevant_documents` was deprecated in langchain-core 0.1.46 and will be removed in 1.0. Use :meth:`~invoke` instead.\n",
      "  docs = retriever.get_relevant_documents(query)\n"
     ]
    }
   ],
   "source": [
    "query = \"Quais os tipos de violência contra a mulher?\"\n",
    "docs = retriever.get_relevant_documents(query)"
   ]
  },
  {
   "cell_type": "code",
   "execution_count": 23,
   "metadata": {},
   "outputs": [
    {
     "name": "stdout",
     "output_type": "stream",
     "text": [
      "../documentos_base/lei-maria-da-penha.md\n",
      "Início do contexto: =======\n",
      " Art. 7º São formas de violência doméstica e familiar contra a mulher, entre outras: I - a violência física, entendida como qualquer conduta que ofenda sua integridade ou saúde corporal; II - a violência psicológica, entendida como qualquer conduta que lhe cause dano emocional e diminuição da autoestima ou que lhe prejudique e perturbe o pleno desenvolvimento ou que vise degradar ou controlar suas ações, comportamentos, crenças e decisões, mediante ameaça, constrangimento, humilhação, manipulação, isolamento, vigilância constante, perseguição contumaz, insulto, chantagem, violação de sua intimidade, ridicularização, exploração e limitação do direito de ir e vir ou qualquer outro meio que lhe cause prejuízo à saúde psicológica e à autodeterminação; (Inciso com redação dada pela Lei nº 13.772, de 19/12/2018) III - a violência sexual, entendida como qualquer conduta que a constranja a presenciar, a manter ou a participar de relação sexual não desejada, mediante intimidação, ameaça, coação\n",
      "Fim do contexto ======\n",
      "\n",
      "../documentos_base/lei-maria-da-penha.md\n",
      "Início do contexto: =======\n",
      " Art. 6º A violência doméstica e familiar contra a mulher constitui uma das formas de violação dos direitos humanos.\n",
      "\n",
      "CAPÍTULO II\n",
      "\n",
      "DAS FORMAS DE VIOLÊNCIA DOMÉSTICA E FAMILIAR CONTRA A MULHER\n",
      "Fim do contexto ======\n",
      "\n",
      "../documentos_base/lei-maria-da-penha.md\n",
      "Início do contexto: =======\n",
      " de 19/12/2018) III - a violência sexual, entendida como qualquer conduta que a constranja a presenciar, a manter ou a participar de relação sexual não desejada, mediante intimidação, ameaça, coação ou uso da força; que a induza a comercializar ou a utilizar, de qualquer modo, a sua sexualidade, que a impeça de usar qualquer método contraceptivo ou que a force ao matrimônio, à gravidez, ao aborto ou à prostituição, mediante coação, chantagem, suborno ou manipulação; ou que limite ou anule o exercício de seus direitos sexuais e reprodutivos; IV - a violência patrimonial, entendida como qualquer conduta que configure retenção, subtração, destruição parcial ou total de seus objetos, instrumentos de trabalho, documentos pessoais, bens, valores e direitos ou recursos econômicos, incluindo os destinados a satisfazer suas necessidades; V - a violência moral, entendida como qualquer conduta que configure calúnia, difamação ou injúria.\n",
      "Fim do contexto ======\n",
      "\n"
     ]
    }
   ],
   "source": [
    "# Let's see the results\n",
    "for doc in docs:\n",
    "    print(doc.metadata[\"source\"])\n",
    "    print(f\"Início do contexto: =======\\n {doc.page_content}\\nFim do contexto ======\\n\")"
   ]
  },
  {
   "cell_type": "markdown",
   "metadata": {},
   "source": [
    "## Stuff Prompt\n",
    "\n",
    "We'll now take the content of the retrieved documents, stuff them into prompt template along with the query, and pass into an LLM to obtain the answer. "
   ]
  },
  {
   "cell_type": "code",
   "execution_count": 20,
   "metadata": {},
   "outputs": [],
   "source": [
    "from langchain.prompts import PromptTemplate\n",
    "\n",
    "prompt_template = \"\"\"Use os trechos da lei maria da penha informados a seguir para responder a pergunta ao final.\n",
    "Se você não souber a resposta ou não conseguir encontrar a resposta nos trechos dados, diga que não sabe responder, não invente uma resposta.\n",
    "\n",
    "{context}\n",
    "\n",
    "Question: {question}\n",
    "Helpful Answer:\"\"\"\n",
    "PROMPT = PromptTemplate(\n",
    "    template=prompt_template, input_variables=[\"context\", \"question\"]\n",
    ")\n",
    "\n",
    "context = \"\\n\\n\".join([doc.page_content for doc in docs])\n",
    "prompt = PROMPT.format(context=context, question=query)"
   ]
  },
  {
   "cell_type": "markdown",
   "metadata": {},
   "source": [
    "Use langchain to call openai chat API with the question"
   ]
  },
  {
   "cell_type": "code",
   "execution_count": 21,
   "metadata": {},
   "outputs": [
    {
     "name": "stderr",
     "output_type": "stream",
     "text": [
      "/tmp/ipykernel_22952/336865589.py:3: LangChainDeprecationWarning: The class `OpenAI` was deprecated in LangChain 0.0.10 and will be removed in 1.0. An updated version of the class exists in the :class:`~langchain-openai package and should be used instead. To use it run `pip install -U :class:`~langchain-openai` and import as `from :class:`~langchain_openai import OpenAI``.\n",
      "  llm = OpenAI()\n",
      "/tmp/ipykernel_22952/336865589.py:4: LangChainDeprecationWarning: The method `BaseLLM.predict` was deprecated in langchain-core 0.1.7 and will be removed in 1.0. Use :meth:`~invoke` instead.\n",
      "  response = llm.predict(prompt)\n"
     ]
    },
    {
     "data": {
      "text/html": [
       "<pre style=\"white-space:pre;overflow-x:auto;line-height:normal;font-family:Menlo,'DejaVu Sans Mono',consolas,'Courier New',monospace\">Os tipos de violência contra a mulher são violência física, psicológica, sexual, patrimonial e moral.              \n",
       "</pre>\n"
      ],
      "text/plain": [
       "Os tipos de violência contra a mulher são violência física, psicológica, sexual, patrimonial e moral.              \n"
      ]
     },
     "execution_count": 21,
     "metadata": {},
     "output_type": "execute_result"
    }
   ],
   "source": [
    "from langchain.llms import OpenAI\n",
    "\n",
    "llm = OpenAI()\n",
    "response = llm.predict(prompt)\n",
    "Markdown(response)"
   ]
  },
  {
   "cell_type": "markdown",
   "metadata": {},
   "source": [
    "## Using Langchain\n",
    "\n",
    "Langchain gives us tools to do this efficiently in few lines of code. Let's do the same using `RetrievalQA` chain."
   ]
  },
  {
   "cell_type": "code",
   "execution_count": 24,
   "metadata": {},
   "outputs": [
    {
     "name": "stderr",
     "output_type": "stream",
     "text": [
      "/tmp/ipykernel_22952/2983009556.py:4: LangChainDeprecationWarning: The method `Chain.run` was deprecated in langchain 0.1.0 and will be removed in 1.0. Use :meth:`~invoke` instead.\n",
      "  result = qa.run(query)\n"
     ]
    },
    {
     "data": {
      "text/html": [
       "<pre style=\"white-space:pre;overflow-x:auto;line-height:normal;font-family:Menlo,'DejaVu Sans Mono',consolas,'Courier New',monospace\">Os tipos de violência contra a mulher incluem violência física, violência psicológica, violência sexual, violência \n",
       "patrimonial e violência moral.                                                                                     \n",
       "</pre>\n"
      ],
      "text/plain": [
       "Os tipos de violência contra a mulher incluem violência física, violência psicológica, violência sexual, violência \n",
       "patrimonial e violência moral.                                                                                     \n"
      ]
     },
     "execution_count": 24,
     "metadata": {},
     "output_type": "execute_result"
    }
   ],
   "source": [
    "from langchain.chains import RetrievalQA\n",
    "\n",
    "qa = RetrievalQA.from_chain_type(llm=OpenAI(), chain_type=\"stuff\", retriever=retriever)\n",
    "result = qa.run(query)\n",
    "\n",
    "Markdown(result)"
   ]
  },
  {
   "cell_type": "code",
   "execution_count": 25,
   "metadata": {},
   "outputs": [],
   "source": [
    "import wandb\n",
    "wandb.finish()"
   ]
  },
  {
   "cell_type": "code",
   "execution_count": null,
   "metadata": {},
   "outputs": [],
   "source": []
  }
 ],
 "metadata": {
  "accelerator": "GPU",
  "colab": {
   "include_colab_link": true,
   "provenance": [],
   "toc_visible": true
  },
  "kernelspec": {
   "display_name": "daphane",
   "language": "python",
   "name": "python3"
  },
  "language_info": {
   "codemirror_mode": {
    "name": "ipython",
    "version": 3
   },
   "file_extension": ".py",
   "mimetype": "text/x-python",
   "name": "python",
   "nbconvert_exporter": "python",
   "pygments_lexer": "ipython3",
   "version": "3.10.12"
  }
 },
 "nbformat": 4,
 "nbformat_minor": 4
}
